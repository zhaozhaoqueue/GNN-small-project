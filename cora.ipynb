{
 "cells": [
  {
   "cell_type": "code",
   "execution_count": 110,
   "metadata": {},
   "outputs": [],
   "source": [
    "import torch\n",
    "import torch.nn.functional as F\n",
    "from torch_geometric.data import Data\n",
    "from torch_geometric.nn import GCNConv, SAGEConv\n",
    "from torch_geometric.utils import to_networkx, to_undirected\n",
    "import networkx as nx\n",
    "import matplotlib.pyplot as plt\n",
    "import seaborn as sns\n",
    "from sklearn.metrics import accuracy_score, balanced_accuracy_score, confusion_matrix\n",
    "import numpy as np\n",
    "%matplotlib inline"
   ]
  },
  {
   "cell_type": "code",
   "execution_count": 66,
   "metadata": {},
   "outputs": [],
   "source": [
    "class Net(torch.nn.Module):\n",
    "    def __init__(self, in_feats, hidden_feats, num_classes):\n",
    "        super(Net, self).__init__()\n",
    "        self.conv1 = SAGEConv(in_feats, hidden_feats)\n",
    "        self.conv2 = SAGEConv(hidden_feats, num_classes)\n",
    "    \n",
    "    def forward(self, data):\n",
    "        x, edge_index = data.x, data.edge_index\n",
    "        x = self.conv1(x, edge_index)\n",
    "        x = F.relu(x)\n",
    "        x = self.conv2(x, edge_index)\n",
    "        out = F.log_softmax(x, 1)\n",
    "        return x, out"
   ]
  },
  {
   "cell_type": "code",
   "execution_count": 104,
   "metadata": {},
   "outputs": [],
   "source": [
    "def plot_network(data, node_labels=None):\n",
    "    fig, ax = plt.subplots()\n",
    "    fig.set_tight_layout(False)\n",
    "    nx_g = to_networkx(data=data).to_undirected()\n",
    "    pos = nx.kamada_kawai_layout(nx_g)\n",
    "    if node_labels != None:\n",
    "        node_color = [[0.5, 0.5, 0.5] if x else [1, 0.5, 0.5] for x in node_labels]\n",
    "    else:\n",
    "        node_color = [[0.5, 0.5, 0.5]]\n",
    "    nx.draw(nx_g, pos, with_labels=True, node_color=node_color)\n",
    "    plt.show()"
   ]
  },
  {
   "cell_type": "markdown",
   "metadata": {},
   "source": [
    "## Prepare cora data"
   ]
  },
  {
   "cell_type": "code",
   "execution_count": 120,
   "metadata": {},
   "outputs": [],
   "source": [
    "edge_file = \"cora.cites.txt\"\n",
    "node_file = \"cora.content.txt\"\n",
    "# read node attributes\n",
    "tags = []\n",
    "node_attrs = []\n",
    "node_ids = []\n",
    "with open(node_file, \"r\") as f:\n",
    "    for line in f:\n",
    "        l = line.split(\"\\t\")\n",
    "#         print(len(l))\n",
    "        node_ids.append(int(l[0]))\n",
    "        node_attrs.append([int(x) for x in l[1: len(l) - 1]])\n",
    "        tags.append(l[-1].strip(\"\\n\"))\n",
    "        \n",
    "# create map for node ids and tags\n",
    "id_map = dict()\n",
    "for i, id in enumerate(node_ids):\n",
    "    id_map[id] = i\n",
    "    id_reverse_map[i] = id\n",
    "tag_map = dict()\n",
    "tag_set = list(set(tags))\n",
    "for i, tag in enumerate(tag_set):\n",
    "    tag_map[tag] = i\n",
    "    tag_reverse_map[i] = tag"
   ]
  },
  {
   "cell_type": "code",
   "execution_count": 33,
   "metadata": {},
   "outputs": [],
   "source": [
    "# read edges\n",
    "src_l, dst_l = [], []\n",
    "with open(edge_file, \"r\") as f:\n",
    "    for line in f:\n",
    "        src = line.split(\"\\t\")[0]\n",
    "        dst = line.split(\"\\t\")[1]\n",
    "        src_l.append(id_map[int(src)])\n",
    "        dst_l.append(id_map[int(dst)])"
   ]
  },
  {
   "cell_type": "code",
   "execution_count": 68,
   "metadata": {},
   "outputs": [],
   "source": [
    "# create Data object\n",
    "edge_index = torch.tensor([src_l, dst_l], dtype=torch.long)\n",
    "x = torch.tensor(node_attrs, dtype=torch.float)\n",
    "tag_index = [tag_map[x] for x in tags]\n",
    "tag_code = torch.tensor(tag_code)\n",
    "data = Data(x=x, edge_index=edge_index)"
   ]
  },
  {
   "cell_type": "markdown",
   "metadata": {},
   "source": [
    "## shuffle and split train and test datasets randomly"
   ]
  },
  {
   "cell_type": "code",
   "execution_count": 96,
   "metadata": {},
   "outputs": [],
   "source": [
    "permutation = np.random.permutation(len(tags))\n",
    "train_mask, test_mask = permutation[:int(len(tags)*0.3)], permutation[int(len(tags)*0.3) + 1: ]"
   ]
  },
  {
   "cell_type": "markdown",
   "metadata": {},
   "source": [
    "## train"
   ]
  },
  {
   "cell_type": "code",
   "execution_count": 98,
   "metadata": {},
   "outputs": [
    {
     "name": "stderr",
     "output_type": "stream",
     "text": [
      "/Users/leishi/anaconda3/envs/torch/lib/python3.6/site-packages/ipykernel_launcher.py:5: UserWarning: To copy construct from a tensor, it is recommended to use sourceTensor.clone().detach() or sourceTensor.clone().detach().requires_grad_(True), rather than torch.tensor(sourceTensor).\n",
      "  \"\"\"\n"
     ]
    },
    {
     "name": "stdout",
     "output_type": "stream",
     "text": [
      "Epoch 0 | Loss: 1.9442\n",
      "Epoch 1 | Loss: 1.7461\n",
      "Epoch 2 | Loss: 1.4983\n",
      "Epoch 3 | Loss: 1.2549\n",
      "Epoch 4 | Loss: 1.0122\n",
      "Epoch 5 | Loss: 0.7731\n",
      "Epoch 6 | Loss: 0.5853\n",
      "Epoch 7 | Loss: 0.4503\n",
      "Epoch 8 | Loss: 0.3508\n",
      "Epoch 9 | Loss: 0.2793\n",
      "Epoch 10 | Loss: 0.2315\n",
      "Epoch 11 | Loss: 0.1979\n",
      "Epoch 12 | Loss: 0.1691\n",
      "Epoch 13 | Loss: 0.1427\n",
      "Epoch 14 | Loss: 0.1214\n",
      "Epoch 15 | Loss: 0.1059\n",
      "Epoch 16 | Loss: 0.0935\n",
      "Epoch 17 | Loss: 0.0814\n",
      "Epoch 18 | Loss: 0.0700\n",
      "Epoch 19 | Loss: 0.0610\n"
     ]
    }
   ],
   "source": [
    "in_feats, num_class = len(node_attrs[0]), len(tag_map)\n",
    "hidden_feats = 128\n",
    "model = Net(in_feats, 128, num_class)\n",
    "optimizer = torch.optim.Adam(model.parameters(), lr=0.01, weight_decay=5e-4)\n",
    "model.train()\n",
    "all_logits = []\n",
    "for epoch in range(20):\n",
    "    optimizer.zero_grad()\n",
    "    logits, out = model(data)\n",
    "    all_logits.append(logits.detach())\n",
    "    loss = F.nll_loss(out[train_mask], tag_code[train_mask])\n",
    "    loss.backward()\n",
    "    optimizer.step()\n",
    "    print('Epoch %d | Loss: %.4f' % (epoch, loss.item()))"
   ]
  },
  {
   "cell_type": "markdown",
   "metadata": {},
   "source": [
    "## Validate"
   ]
  },
  {
   "cell_type": "code",
   "execution_count": 99,
   "metadata": {},
   "outputs": [],
   "source": [
    "model.eval()\n",
    "_, out_val = model(data)\n",
    "pred_index = out_val[test_mask].argmax(1)\n",
    "gt_index = tag_code[test_mask]"
   ]
  },
  {
   "cell_type": "code",
   "execution_count": 102,
   "metadata": {},
   "outputs": [
    {
     "data": {
      "text/plain": [
       "0.8306068601583113"
      ]
     },
     "execution_count": 102,
     "metadata": {},
     "output_type": "execute_result"
    }
   ],
   "source": [
    "# accuracy on test dataset\n",
    "accuracy_score(gt_index, pred_index)"
   ]
  },
  {
   "cell_type": "code",
   "execution_count": 107,
   "metadata": {},
   "outputs": [
    {
     "data": {
      "text/plain": [
       "0.8173240936613039"
      ]
     },
     "execution_count": 107,
     "metadata": {},
     "output_type": "execute_result"
    }
   ],
   "source": [
    "# balanced accuracy on test dataset\n",
    "balanced_accuracy_score(gt_index, pred_index)"
   ]
  },
  {
   "cell_type": "code",
   "execution_count": 119,
   "metadata": {},
   "outputs": [
    {
     "name": "stdout",
     "output_type": "stream",
     "text": [
      "[[483   0  37  22   6   8  19]\n",
      " [  6 102  10  14   0   0   3]\n",
      " [ 27  12 168  16   4   8  15]\n",
      " [  4   6  10 172   1   4   2]\n",
      " [  7   1   4   7 113  12   3]\n",
      " [  4   0   4   6   1 277   0]\n",
      " [ 18   1  13   2   4   0 259]]\n"
     ]
    },
    {
     "data": {
      "text/plain": [
       "Text(30.5, 0.5, 'true')"
      ]
     },
     "execution_count": 119,
     "metadata": {},
     "output_type": "execute_result"
    },
    {
     "data": {
      "image/png": "[encoded data removed]",
      "text/plain": [
       "<Figure size 432x288 with 2 Axes>"
      ]
     },
     "metadata": {},
     "output_type": "display_data"
    }
   ],
   "source": [
    "cm = confusion_matrix(gt_index, pred_index)\n",
    "print(cm)\n",
    "# visualize confusion matrix\n",
    "sns.set()\n",
    "f,ax=plt.subplots()\n",
    "sns.heatmap(cm,annot=True,ax=ax)\n",
    "ax.set_title('confusion matrix')\n",
    "ax.set_xlabel('predict')\n",
    "ax.set_ylabel('true')"
   ]
  },
  {
   "cell_type": "code",
   "execution_count": null,
   "metadata": {},
   "outputs": [],
   "source": []
  }
 ],
 "metadata": {
  "kernelspec": {
   "display_name": "Python 3",
   "language": "python",
   "name": "python3"
  },
  "language_info": {
   "codemirror_mode": {
    "name": "ipython",
    "version": 3
   },
   "file_extension": ".py",
   "mimetype": "text/x-python",
   "name": "python",
   "nbconvert_exporter": "python",
   "pygments_lexer": "ipython3",
   "version": "3.6.10"
  }
 },
 "nbformat": 4,
 "nbformat_minor": 4
}
